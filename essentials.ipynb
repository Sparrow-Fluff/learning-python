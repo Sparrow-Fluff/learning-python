{
  "nbformat": 4,
  "nbformat_minor": 0,
  "metadata": {
    "colab": {
      "name": "essentials.ipynb",
      "provenance": [],
      "toc_visible": true,
      "authorship_tag": "ABX9TyNXj6Y0ZEIFWL8XBtUHqBqW",
      "include_colab_link": true
    },
    "kernelspec": {
      "name": "python3",
      "display_name": "Python 3"
    },
    "language_info": {
      "name": "python"
    }
  },
  "cells": [
    {
      "cell_type": "markdown",
      "metadata": {
        "id": "view-in-github",
        "colab_type": "text"
      },
      "source": [
        "<a href=\"https://colab.research.google.com/github/Sparrow-Fluff/learning-python/blob/main/essentials.ipynb\" target=\"_parent\"><img src=\"https://colab.research.google.com/assets/colab-badge.svg\" alt=\"Open In Colab\"/></a>"
      ]
    },
    {
      "cell_type": "markdown",
      "metadata": {
        "id": "o2x2BNxn1dam"
      },
      "source": [
        "# Задания"
      ]
    },
    {
      "cell_type": "markdown",
      "metadata": {
        "id": "SMCksklh1hgb"
      },
      "source": [
        "## номер *1*. Переменные."
      ]
    },
    {
      "cell_type": "markdown",
      "metadata": {
        "id": "N6dWaxjx-n4h"
      },
      "source": [
        "### Простые типы переменных"
      ]
    },
    {
      "cell_type": "code",
      "metadata": {
        "colab": {
          "base_uri": "https://localhost:8080/"
        },
        "id": "9b8Nu0gT0RC6",
        "outputId": "08b0ca12-de6f-43d5-d1e9-11f86f7be63b"
      },
      "source": [
        "#определение типа переменной - type\n",
        "person_name='Пук'\n",
        "print(type(person_name))\n",
        "#str - строка\n",
        "age=20\n",
        "print(type(age))\n",
        "#int - целое число\n",
        "period=3.2\n",
        "print(type(period))\n",
        "#float - число с плавающей точкой?\n",
        "is_good=True\n",
        "print(type(is_good))\n",
        "#bool - логический тип\n",
        "person=None\n",
        "print(type(person))\n",
        "#None(NoneType) - ничего, пустой тип"
      ],
      "execution_count": 5,
      "outputs": [
        {
          "output_type": "stream",
          "text": [
            "<class 'str'>\n",
            "<class 'int'>\n",
            "<class 'float'>\n",
            "<class 'bool'>\n",
            "<class 'NoneType'>\n"
          ],
          "name": "stdout"
        }
      ]
    },
    {
      "cell_type": "markdown",
      "metadata": {
        "id": "9fOOqkMW-xZU"
      },
      "source": [
        "### Преобразование типов переменных"
      ]
    },
    {
      "cell_type": "code",
      "metadata": {
        "colab": {
          "base_uri": "https://localhost:8080/"
        },
        "id": "zHy47xXl65pC",
        "outputId": "6d00e059-90b1-46e5-b25a-a86ed89dad3c"
      },
      "source": [
        "#преобразование типов переменных\n",
        "birthday_year='1999' #тип строка (str)\n",
        "period=22 #тип целое число (int)\n",
        "#перевод функции (строка) к целому чилу - int\n",
        "b_y=int(birthday_year)\n",
        "age=b_y+period\n",
        "print(age)\n",
        "#перевод числа в строку - str\n",
        "some_str=birthday_year+str(period)\n",
        "print(some_str)"
      ],
      "execution_count": 11,
      "outputs": [
        {
          "output_type": "stream",
          "text": [
            "2021\n",
            "199922\n"
          ],
          "name": "stdout"
        }
      ]
    },
    {
      "cell_type": "markdown",
      "metadata": {
        "id": "iViryAXv-5lx"
      },
      "source": [
        "### Ввод и вывод данных"
      ]
    },
    {
      "cell_type": "code",
      "metadata": {
        "colab": {
          "base_uri": "https://localhost:8080/"
        },
        "id": "XbGoqCCN--ph",
        "outputId": "142f2a55-ebf3-4670-f3c4-6bced72e9c43"
      },
      "source": [
        "#print выводит любой тип данных, возможен вывод разных типов данных через ,\n",
        "\n",
        "\n",
        "print('Привет, меня зовут Кеша мне 2 года')\n",
        "name='Кеша'\n",
        "age=2\n",
        "print(name,age)#не надо заботиться о типах данных\n",
        "#использование разных разделителей слов (sep=) вместо пробела. Например, использование слеша (/)\n",
        "print(name,age,sep='/')\n",
        "#использование разных разделителей строк (end=) вместо символа конца строки\n",
        "print(name,end=';')\n",
        "print(age,end=';')"
      ],
      "execution_count": 4,
      "outputs": [
        {
          "output_type": "stream",
          "text": [
            "Привет, меня зовут Кеша мне 2 года\n",
            "Кеша 2\n",
            "Кеша/2\n",
            "Кеша;2;"
          ],
          "name": "stdout"
        }
      ]
    },
    {
      "cell_type": "code",
      "metadata": {
        "colab": {
          "base_uri": "https://localhost:8080/"
        },
        "id": "4Hp0X3ZQ3Wmc",
        "outputId": "c8caa2c1-aa40-4cba-e9a0-1054f098ff22"
      },
      "source": [
        "#Ввод данных с помощью input\n",
        "result=input('Как дела?')\n",
        "print('Пользователь ввел: ',result)\n",
        "#Тип введенных данных - строка (str)\n",
        "a=int(input('Сколько лет?'))\n",
        "period=10\n",
        "print('Через',period,'лет будет',a+period)"
      ],
      "execution_count": 10,
      "outputs": [
        {
          "output_type": "stream",
          "text": [
            "Как дела?g\n",
            "Пользователь ввел:  g\n",
            "Сколько лет?13\n",
            "Через 10 лет будет 23\n"
          ],
          "name": "stdout"
        }
      ]
    },
    {
      "cell_type": "markdown",
      "metadata": {
        "id": "pnGvkCKI5c4o"
      },
      "source": [
        "###Арифметические операции"
      ]
    },
    {
      "cell_type": "code",
      "metadata": {
        "colab": {
          "base_uri": "https://localhost:8080/"
        },
        "id": "d5A8xXfi5ibQ",
        "outputId": "40bfb381-050c-4b80-e631-807abc3ea84a"
      },
      "source": [
        "#+,-,*,/\n",
        "a=3\n",
        "b=5\n",
        "print(a+b)\n",
        "print(a-b)\n",
        "print(a*b)\n",
        "print(a/b)\n",
        "#при деление получается класс float(дробное число)\n",
        "#целая часть от деления //\n",
        "print(a//b)\n",
        "#остаток от деления %\n",
        "print(b%a)\n",
        "#степень **"
      ],
      "execution_count": 14,
      "outputs": [
        {
          "output_type": "stream",
          "text": [
            "8\n",
            "-2\n",
            "15\n",
            "0.6\n",
            "0\n",
            "2\n"
          ],
          "name": "stdout"
        }
      ]
    },
    {
      "cell_type": "markdown",
      "metadata": {
        "id": "eqeD8KIw9eUn"
      },
      "source": [
        "### Логические операции"
      ]
    },
    {
      "cell_type": "code",
      "metadata": {
        "colab": {
          "base_uri": "https://localhost:8080/"
        },
        "id": "HuxzOBaU9QsY",
        "outputId": "71489a54-84ea-401f-d949-ac5e39c96450"
      },
      "source": [
        "# == равно\n",
        "# != не равно\n",
        "# < меньше\n",
        "# > больше\n",
        "# <= меньше либо равно\n",
        "# >= больше либо равно\n",
        "# and И\n",
        "# or ИЛИ\n",
        "# not НЕ\n",
        "# в результате получяем истину или ложь\n",
        "print('Они не равны', not a==b)\n",
        "\n",
        "#сложные логические выражения\n"
      ],
      "execution_count": 15,
      "outputs": [
        {
          "output_type": "stream",
          "text": [
            "Они не равны True\n"
          ],
          "name": "stdout"
        }
      ]
    }
  ]
}