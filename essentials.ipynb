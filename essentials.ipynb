{
  "nbformat": 4,
  "nbformat_minor": 0,
  "metadata": {
    "colab": {
      "name": "essentials.ipynb",
      "provenance": [],
      "toc_visible": true,
      "authorship_tag": "ABX9TyNHLmSqSiBAvShqYsPIMV+f",
      "include_colab_link": true
    },
    "kernelspec": {
      "name": "python3",
      "display_name": "Python 3"
    },
    "language_info": {
      "name": "python"
    }
  },
  "cells": [
    {
      "cell_type": "markdown",
      "metadata": {
        "id": "view-in-github",
        "colab_type": "text"
      },
      "source": [
        "<a href=\"https://colab.research.google.com/github/Sparrow-Fluff/learning-python/blob/main/essentials.ipynb\" target=\"_parent\"><img src=\"https://colab.research.google.com/assets/colab-badge.svg\" alt=\"Open In Colab\"/></a>"
      ]
    },
    {
      "cell_type": "markdown",
      "metadata": {
        "id": "o2x2BNxn1dam"
      },
      "source": [
        "# Задания"
      ]
    },
    {
      "cell_type": "markdown",
      "metadata": {
        "id": "SMCksklh1hgb"
      },
      "source": [
        "## номер *1*. Переменные."
      ]
    },
    {
      "cell_type": "markdown",
      "metadata": {
        "id": "N6dWaxjx-n4h"
      },
      "source": [
        "### Простые типы переменных"
      ]
    },
    {
      "cell_type": "code",
      "metadata": {
        "colab": {
          "base_uri": "https://localhost:8080/"
        },
        "id": "9b8Nu0gT0RC6",
        "outputId": "08b0ca12-de6f-43d5-d1e9-11f86f7be63b"
      },
      "source": [
        "#определение типа переменной - type\n",
        "person_name='Пук'\n",
        "print(type(person_name))\n",
        "#str - строка\n",
        "age=20\n",
        "print(type(age))\n",
        "#int - целое число\n",
        "period=3.2\n",
        "print(type(period))\n",
        "#float - число с плавающей точкой?\n",
        "is_good=True\n",
        "print(type(is_good))\n",
        "#bool - логический тип\n",
        "person=None\n",
        "print(type(person))\n",
        "#None(NoneType) - ничего, пустой тип"
      ],
      "execution_count": 5,
      "outputs": [
        {
          "output_type": "stream",
          "text": [
            "<class 'str'>\n",
            "<class 'int'>\n",
            "<class 'float'>\n",
            "<class 'bool'>\n",
            "<class 'NoneType'>\n"
          ],
          "name": "stdout"
        }
      ]
    },
    {
      "cell_type": "markdown",
      "metadata": {
        "id": "9fOOqkMW-xZU"
      },
      "source": [
        "### Преобразование типов переменных"
      ]
    },
    {
      "cell_type": "code",
      "metadata": {
        "id": "zHy47xXl65pC",
        "outputId": "6d00e059-90b1-46e5-b25a-a86ed89dad3c",
        "colab": {
          "base_uri": "https://localhost:8080/"
        }
      },
      "source": [
        "#преобразование типов переменных\n",
        "birthday_year='1999' #тип строка (str)\n",
        "period=22 #тип целое число (int)\n",
        "#перевод функции (строка) к целому чилу - int\n",
        "b_y=int(birthday_year)\n",
        "age=b_y+period\n",
        "print(age)\n",
        "#перевод числа в строку - str\n",
        "some_str=birthday_year+str(period)\n",
        "print(some_str)"
      ],
      "execution_count": 11,
      "outputs": [
        {
          "output_type": "stream",
          "text": [
            "2021\n",
            "199922\n"
          ],
          "name": "stdout"
        }
      ]
    },
    {
      "cell_type": "markdown",
      "metadata": {
        "id": "iViryAXv-5lx"
      },
      "source": [
        "### Вводи вывод данных"
      ]
    },
    {
      "cell_type": "code",
      "metadata": {
        "id": "XbGoqCCN--ph"
      },
      "source": [
        "#print выводит любой тип данных, возможен вывод разных типов данных через ,\n",
        "#использование разных разделителей слов (sep=)\n",
        "#"
      ],
      "execution_count": null,
      "outputs": []
    }
  ]
}