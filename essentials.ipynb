{
  "nbformat": 4,
  "nbformat_minor": 0,
  "metadata": {
    "colab": {
      "name": "essentials.ipynb",
      "provenance": [],
      "toc_visible": true,
      "authorship_tag": "ABX9TyN9OLxkCF+o4ESCVEG+80if",
      "include_colab_link": true
    },
    "kernelspec": {
      "name": "python3",
      "display_name": "Python 3"
    },
    "language_info": {
      "name": "python"
    }
  },
  "cells": [
    {
      "cell_type": "markdown",
      "metadata": {
        "id": "view-in-github",
        "colab_type": "text"
      },
      "source": [
        "<a href=\"https://colab.research.google.com/github/Sparrow-Fluff/learning-python/blob/main/essentials.ipynb\" target=\"_parent\"><img src=\"https://colab.research.google.com/assets/colab-badge.svg\" alt=\"Open In Colab\"/></a>"
      ]
    },
    {
      "cell_type": "markdown",
      "metadata": {
        "id": "o2x2BNxn1dam"
      },
      "source": [
        "# Задания"
      ]
    },
    {
      "cell_type": "markdown",
      "metadata": {
        "id": "SMCksklh1hgb"
      },
      "source": [
        "## номер *1*. Переменные."
      ]
    },
    {
      "cell_type": "markdown",
      "metadata": {
        "id": "N6dWaxjx-n4h"
      },
      "source": [
        "### Простые типы переменных"
      ]
    },
    {
      "cell_type": "code",
      "metadata": {
        "colab": {
          "base_uri": "https://localhost:8080/"
        },
        "id": "9b8Nu0gT0RC6",
        "outputId": "08b0ca12-de6f-43d5-d1e9-11f86f7be63b"
      },
      "source": [
        "#определение типа переменной - type\n",
        "person_name='Пук'\n",
        "print(type(person_name))\n",
        "#str - строка\n",
        "age=20\n",
        "print(type(age))\n",
        "#int - целое число\n",
        "period=3.2\n",
        "print(type(period))\n",
        "#float - число с плавающей точкой?\n",
        "is_good=True\n",
        "print(type(is_good))\n",
        "#bool - логический тип\n",
        "person=None\n",
        "print(type(person))\n",
        "#None(NoneType) - ничего, пустой тип"
      ],
      "execution_count": null,
      "outputs": [
        {
          "output_type": "stream",
          "text": [
            "<class 'str'>\n",
            "<class 'int'>\n",
            "<class 'float'>\n",
            "<class 'bool'>\n",
            "<class 'NoneType'>\n"
          ],
          "name": "stdout"
        }
      ]
    },
    {
      "cell_type": "markdown",
      "metadata": {
        "id": "9fOOqkMW-xZU"
      },
      "source": [
        "### Преобразование типов переменных"
      ]
    },
    {
      "cell_type": "code",
      "metadata": {
        "colab": {
          "base_uri": "https://localhost:8080/"
        },
        "id": "zHy47xXl65pC",
        "outputId": "6d00e059-90b1-46e5-b25a-a86ed89dad3c"
      },
      "source": [
        "#преобразование типов переменных\n",
        "birthday_year='1999' #тип строка (str)\n",
        "period=22 #тип целое число (int)\n",
        "#перевод функции (строка) к целому чилу - int\n",
        "b_y=int(birthday_year)\n",
        "age=b_y+period\n",
        "print(age)\n",
        "#перевод числа в строку - str\n",
        "some_str=birthday_year+str(period)\n",
        "print(some_str)"
      ],
      "execution_count": null,
      "outputs": [
        {
          "output_type": "stream",
          "text": [
            "2021\n",
            "199922\n"
          ],
          "name": "stdout"
        }
      ]
    },
    {
      "cell_type": "markdown",
      "metadata": {
        "id": "iViryAXv-5lx"
      },
      "source": [
        "### Ввод и вывод данных"
      ]
    },
    {
      "cell_type": "code",
      "metadata": {
        "colab": {
          "base_uri": "https://localhost:8080/"
        },
        "id": "XbGoqCCN--ph",
        "outputId": "142f2a55-ebf3-4670-f3c4-6bced72e9c43"
      },
      "source": [
        "#print выводит любой тип данных, возможен вывод разных типов данных через ,\n",
        "\n",
        "\n",
        "print('Привет, меня зовут Кеша мне 2 года')\n",
        "name='Кеша'\n",
        "age=2\n",
        "print(name,age)#не надо заботиться о типах данных\n",
        "#использование разных разделителей слов (sep=) вместо пробела. Например, использование слеша (/)\n",
        "print(name,age,sep='/')\n",
        "#использование разных разделителей строк (end=) вместо символа конца строки\n",
        "print(name,end=';')\n",
        "print(age,end=';')"
      ],
      "execution_count": null,
      "outputs": [
        {
          "output_type": "stream",
          "text": [
            "Привет, меня зовут Кеша мне 2 года\n",
            "Кеша 2\n",
            "Кеша/2\n",
            "Кеша;2;"
          ],
          "name": "stdout"
        }
      ]
    },
    {
      "cell_type": "code",
      "metadata": {
        "colab": {
          "base_uri": "https://localhost:8080/"
        },
        "id": "4Hp0X3ZQ3Wmc",
        "outputId": "c8caa2c1-aa40-4cba-e9a0-1054f098ff22"
      },
      "source": [
        "#Ввод данных с помощью input\n",
        "result=input('Как дела?')\n",
        "print('Пользователь ввел: ',result)\n",
        "#Тип введенных данных - строка (str)\n",
        "a=int(input('Сколько лет?'))\n",
        "period=10\n",
        "print('Через',period,'лет будет',a+period)"
      ],
      "execution_count": null,
      "outputs": [
        {
          "output_type": "stream",
          "text": [
            "Как дела?g\n",
            "Пользователь ввел:  g\n",
            "Сколько лет?13\n",
            "Через 10 лет будет 23\n"
          ],
          "name": "stdout"
        }
      ]
    },
    {
      "cell_type": "markdown",
      "metadata": {
        "id": "pnGvkCKI5c4o"
      },
      "source": [
        "###Арифметические операции"
      ]
    },
    {
      "cell_type": "code",
      "metadata": {
        "colab": {
          "base_uri": "https://localhost:8080/"
        },
        "id": "d5A8xXfi5ibQ",
        "outputId": "40bfb381-050c-4b80-e631-807abc3ea84a"
      },
      "source": [
        "#+,-,*,/\n",
        "a=3\n",
        "b=5\n",
        "print(a+b)\n",
        "print(a-b)\n",
        "print(a*b)\n",
        "print(a/b)\n",
        "#при деление получается класс float(дробное число)\n",
        "#целая часть от деления //\n",
        "print(a//b)\n",
        "#остаток от деления %\n",
        "print(b%a)\n",
        "#возедение в степень **"
      ],
      "execution_count": null,
      "outputs": [
        {
          "output_type": "stream",
          "text": [
            "8\n",
            "-2\n",
            "15\n",
            "0.6\n",
            "0\n",
            "2\n"
          ],
          "name": "stdout"
        }
      ]
    },
    {
      "cell_type": "markdown",
      "metadata": {
        "id": "eqeD8KIw9eUn"
      },
      "source": [
        "### Логические операции"
      ]
    },
    {
      "cell_type": "code",
      "metadata": {
        "colab": {
          "base_uri": "https://localhost:8080/",
          "height": 235
        },
        "id": "HuxzOBaU9QsY",
        "outputId": "9c0c0bc8-982a-48a3-8d4a-1a2600beb5ea"
      },
      "source": [
        "# == равно\n",
        "# != не равно\n",
        "# < меньше\n",
        "# > больше\n",
        "# <= меньше либо равно\n",
        "# >= больше либо равно\n",
        "# and И\n",
        "# or ИЛИ\n",
        "# not НЕ\n",
        "# в результате получяем истину или ложь\n",
        "print('Они не равны', not a==b)\n",
        "\n",
        "#для приориета можно пользоваться скобочками\n"
      ],
      "execution_count": 2,
      "outputs": [
        {
          "output_type": "error",
          "ename": "NameError",
          "evalue": "ignored",
          "traceback": [
            "\u001b[0;31m---------------------------------------------------------------------------\u001b[0m",
            "\u001b[0;31mNameError\u001b[0m                                 Traceback (most recent call last)",
            "\u001b[0;32m<ipython-input-2-adf74da645ff>\u001b[0m in \u001b[0;36m<module>\u001b[0;34m()\u001b[0m\n\u001b[1;32m      9\u001b[0m \u001b[0;31m# not НЕ\u001b[0m\u001b[0;34m\u001b[0m\u001b[0;34m\u001b[0m\u001b[0;34m\u001b[0m\u001b[0m\n\u001b[1;32m     10\u001b[0m \u001b[0;31m# в результате получяем истину или ложь\u001b[0m\u001b[0;34m\u001b[0m\u001b[0;34m\u001b[0m\u001b[0;34m\u001b[0m\u001b[0m\n\u001b[0;32m---> 11\u001b[0;31m \u001b[0mprint\u001b[0m\u001b[0;34m(\u001b[0m\u001b[0;34m'Они не равны'\u001b[0m\u001b[0;34m,\u001b[0m \u001b[0;32mnot\u001b[0m \u001b[0ma\u001b[0m\u001b[0;34m==\u001b[0m\u001b[0mb\u001b[0m\u001b[0;34m)\u001b[0m\u001b[0;34m\u001b[0m\u001b[0;34m\u001b[0m\u001b[0m\n\u001b[0m\u001b[1;32m     12\u001b[0m \u001b[0;34m\u001b[0m\u001b[0m\n\u001b[1;32m     13\u001b[0m \u001b[0;31m#для приориета можно пользоваться скобочками\u001b[0m\u001b[0;34m\u001b[0m\u001b[0;34m\u001b[0m\u001b[0;34m\u001b[0m\u001b[0m\n",
            "\u001b[0;31mNameError\u001b[0m: name 'a' is not defined"
          ]
        }
      ]
    },
    {
      "cell_type": "markdown",
      "metadata": {
        "id": "miffGbMIMrkU"
      },
      "source": [
        "### Условные операторы"
      ]
    },
    {
      "cell_type": "code",
      "metadata": {
        "id": "xQ1RrIxFMul_",
        "outputId": "7a449d14-a404-40e9-aba7-500abeda3185",
        "colab": {
          "base_uri": "https://localhost:8080/"
        }
      },
      "source": [
        "# оператор  if. Надо ставить двоеточие после условия\n",
        "\n",
        "age=int(input('Введите свой возраст '))\n",
        "if age<18:\n",
        "    print('Доступ запрещен')"
      ],
      "execution_count": 3,
      "outputs": [
        {
          "output_type": "stream",
          "text": [
            "Введите свой возраст 17\n",
            "Доступ запрещен\n"
          ],
          "name": "stdout"
        }
      ]
    },
    {
      "cell_type": "code",
      "metadata": {
        "id": "C8kdpBPUNbHV",
        "outputId": "b9a76d91-2b9b-4223-b8b7-24a2231f2336",
        "colab": {
          "base_uri": "https://localhost:8080/"
        }
      },
      "source": [
        "#блоки и отступы в коде: нет{}, поэтому ставим 4 пробела или tab\n",
        "\n",
        "# if - elif (может быть много) - else\n",
        "#внутрь оператора if может быть вложен другой оператор\n",
        "age=int(input('Введите свой возраст '))\n",
        "if age<18:\n",
        "    print('Доступ запрещен')\n",
        "    print('Пока')\n",
        "elif age==18:\n",
        "    print('lox')\n",
        "elif age>18 and age<25:\n",
        "    print('Попал')\n",
        "else:\n",
        "    print('Доступ разрешен')\n",
        "    #проверка на юбилей\n",
        "    if age%5==0:\n",
        "        print('Юбиле')\n",
        "print('Конец')"
      ],
      "execution_count": 16,
      "outputs": [
        {
          "output_type": "stream",
          "text": [
            "Введите свой возраст 10\n",
            "Доступ запрещен\n",
            "Пока\n",
            "Конец\n"
          ],
          "name": "stdout"
        }
      ]
    },
    {
      "cell_type": "code",
      "metadata": {
        "id": "PppeEqWKQI57",
        "outputId": "d314936c-d852-49c9-f9f1-7c1d6a26d678",
        "colab": {
          "base_uri": "https://localhost:8080/"
        }
      },
      "source": [
        "#игра \"Угадай число\"\n",
        "number=43\n",
        "v=int(input('Введите число от 1 до 100: '))\n",
        "if v==number:\n",
        "    print('Вы угадали!')\n",
        "else: \n",
        "    if v>number: print('Надо меньше')\n",
        "    else: print('Надо больше')"
      ],
      "execution_count": 20,
      "outputs": [
        {
          "output_type": "stream",
          "text": [
            "Введите число от 1 до 100: 20\n",
            "Надо больше\n"
          ],
          "name": "stdout"
        }
      ]
    },
    {
      "cell_type": "markdown",
      "metadata": {
        "id": "xlaH_WpfRius"
      },
      "source": [
        "### Цикл"
      ]
    },
    {
      "cell_type": "code",
      "metadata": {
        "id": "6JjuqcF_RldA",
        "outputId": "4121c326-1eda-4c0e-ce31-aa4b20c6225b",
        "colab": {
          "base_uri": "https://localhost:8080/"
        }
      },
      "source": [
        "#while условие:\n",
        "name=input('Кто создатель Python?')\n",
        "while  name!='Гвидо':\n",
        "    print('Неправильно!')\n",
        "    name=input('Кто создатель Python?')\n",
        "print('Верно')"
      ],
      "execution_count": 24,
      "outputs": [
        {
          "output_type": "stream",
          "text": [
            "Кто создатель Python?kl\n",
            "Неправильно!\n",
            "Кто создатель Python?глв\n",
            "Неправильно!\n",
            "Кто создатель Python?Гвидо\n"
          ],
          "name": "stdout"
        }
      ]
    },
    {
      "cell_type": "code",
      "metadata": {
        "id": "bCXCmWD5S2Ck",
        "outputId": "d977bb3f-9090-4b89-9b17-4729dfa4b4f8",
        "colab": {
          "base_uri": "https://localhost:8080/"
        }
      },
      "source": [
        "#вывод четных чисел от 0 до n\n",
        "n=0\n",
        "k=int(input('k='))\n",
        "while n <=k:\n",
        "    if n%2==0:\n",
        "        print(n)\n",
        "    # n+1 тоже самое что и n+=1\n",
        "    n+=1\n"
      ],
      "execution_count": 31,
      "outputs": [
        {
          "output_type": "stream",
          "text": [
            "k=10\n",
            "0\n",
            "2\n",
            "4\n",
            "6\n",
            "8\n",
            "10\n"
          ],
          "name": "stdout"
        }
      ]
    },
    {
      "cell_type": "markdown",
      "metadata": {
        "id": "hxc_eeHEUvHr"
      },
      "source": [
        "### Дополнительные возможности работы с циклами. Break, continue, while-esle"
      ]
    },
    {
      "cell_type": "code",
      "metadata": {
        "id": "H-6TO5uWU7_M",
        "outputId": "fa5148b1-07d2-48a9-cb8c-9109a47bb106",
        "colab": {
          "base_uri": "https://localhost:8080/"
        }
      },
      "source": [
        "#break позволяет выходить из цикла\n",
        "name=None\n",
        "while  name!='Гвидо':\n",
        "    name=input('Кто создатель Python?')\n",
        "    if name =='Гвидо':\n",
        "        break\n",
        "    print('Неправильно!')\n",
        "print('Верно')"
      ],
      "execution_count": 36,
      "outputs": [
        {
          "output_type": "stream",
          "text": [
            "Кто создатель Python?га\n",
            "Неправильно!\n",
            "Кто создатель Python?Гвидо\n",
            "Верно\n"
          ],
          "name": "stdout"
        }
      ]
    }
  ]
}